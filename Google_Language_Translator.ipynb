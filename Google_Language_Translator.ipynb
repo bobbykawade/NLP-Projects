{
  "nbformat": 4,
  "nbformat_minor": 0,
  "metadata": {
    "colab": {
      "name": "Google Language Translator.ipynb",
      "provenance": [],
      "collapsed_sections": [],
      "authorship_tag": "ABX9TyOd50DZQhVq4aF1m0BZuEn+",
      "include_colab_link": true
    },
    "kernelspec": {
      "name": "python3",
      "display_name": "Python 3"
    },
    "language_info": {
      "name": "python"
    }
  },
  "cells": [
    {
      "cell_type": "markdown",
      "metadata": {
        "id": "view-in-github",
        "colab_type": "text"
      },
      "source": [
        "<a href=\"https://colab.research.google.com/github/bobbykawade/NLP-Projects/blob/main/Google_Language_Translator.ipynb\" target=\"_parent\"><img src=\"https://colab.research.google.com/assets/colab-badge.svg\" alt=\"Open In Colab\"/></a>"
      ]
    },
    {
      "cell_type": "code",
      "metadata": {
        "id": "sqiH7buR9qlb"
      },
      "source": [
        "#pip install googletrans==3.1.0a0"
      ],
      "execution_count": 4,
      "outputs": []
    },
    {
      "cell_type": "code",
      "metadata": {
        "colab": {
          "base_uri": "https://localhost:8080/"
        },
        "id": "DLSv7wjd9alN",
        "outputId": "a3de83a1-87ae-4bfa-9722-d8ed4560f22c"
      },
      "source": [
        "from googletrans import Translator\n",
        "translator = Translator()\n",
        "\n",
        "out = translator.translate(\"क्या हाल है\", dest='en')\n",
        "print(out)\n",
        "\n",
        "mystory = '''Tell me who doesn't love baby yoda from mandolarian? \n",
        "Baby yoda has shaken me like soda.\n",
        "'''\n",
        "out = translator.translate(mystory, dest='hi')\n",
        "print(out.text)\n",
        "\n",
        "out = translator.translate(\"I am learning python programming language\", dest='Mr')\n",
        "print(out)"
      ],
      "execution_count": 6,
      "outputs": [
        {
          "output_type": "stream",
          "text": [
            "Translated(src=hi, dest=en, text=How are you, pronunciation=None, extra_data=\"{'translat...\")\n",
            "मुझे बताओ कि मंडलोरियन से बेबी योडा को कौन पसंद नहीं करता?\n",
            "बेबी योडा ने मुझे सोडा की तरह हिला दिया है।\n",
            "Translated(src=en, dest=mr, text=मी अजगर प्रोग्रामिंग भाषा शिकत आहे, pronunciation=Mī ajagara prōgrāmiṅga bhāṣā śikata āhē, extra_data=\"{'translat...\")\n"
          ],
          "name": "stdout"
        }
      ]
    }
  ]
}